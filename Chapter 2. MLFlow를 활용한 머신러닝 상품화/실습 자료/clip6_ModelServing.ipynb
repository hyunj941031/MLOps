{
 "cells": [
  {
   "cell_type": "code",
   "execution_count": null,
   "metadata": {},
   "outputs": [],
   "source": [
    "import mlflow\n",
    "mlflow.set_tracking_uri(\"http://127.0.0.1:5000\")"
   ]
  },
  {
   "cell_type": "code",
   "execution_count": null,
   "metadata": {},
   "outputs": [],
   "source": [
    "import pandas as pd\n",
    "from sklearn.metrics import accuracy_score\n",
    "\n",
    "test_df = pd.read_csv('dataset_preprocessing.csv', index_col=0)\n",
    "label = test_df[\"Survived\"]\n",
    "test_df = test_df.drop([\"Survived\"], axis=1)\n",
    "test_df.head()"
   ]
  },
  {
   "attachments": {},
   "cell_type": "markdown",
   "metadata": {},
   "source": [
    "### 1. Staging Model 로드 및 예측"
   ]
  },
  {
   "cell_type": "code",
   "execution_count": null,
   "metadata": {},
   "outputs": [],
   "source": [
    "# To do\n",
    "# load staging model\n",
    "\n",
    "model_uri = \"models:/hellomlflow/Staging\"\n",
    "loaded_model = mlflow.sklearn.load_model(model_uri)"
   ]
  },
  {
   "cell_type": "code",
   "execution_count": null,
   "metadata": {},
   "outputs": [],
   "source": [
    "loaded_model"
   ]
  },
  {
   "cell_type": "code",
   "execution_count": null,
   "metadata": {},
   "outputs": [],
   "source": [
    "y_prd = loaded_model.predict(pd.DataFrame(test_df))\n",
    "accuracy_score(y_prd, label)"
   ]
  },
  {
   "attachments": {},
   "cell_type": "markdown",
   "metadata": {},
   "source": [
    "### 2. Production Model 로드 및 예측"
   ]
  },
  {
   "cell_type": "code",
   "execution_count": null,
   "metadata": {},
   "outputs": [],
   "source": [
    "# To do\n",
    "# load production model\n",
    "model_uri = \"models:/hellomlflow/Production\"\n",
    "loaded_model = mlflow.sklearn.load_model(model_uri)"
   ]
  },
  {
   "cell_type": "code",
   "execution_count": null,
   "metadata": {},
   "outputs": [],
   "source": [
    "loaded_model"
   ]
  },
  {
   "cell_type": "code",
   "execution_count": null,
   "metadata": {},
   "outputs": [],
   "source": [
    "y_prd = loaded_model.predict(pd.DataFrame(test_df))\n",
    "accuracy_score(y_prd, label)\n",
    "\n",
    "# 기존의 production accuracy : 0.920314253647587"
   ]
  },
  {
   "cell_type": "code",
   "execution_count": null,
   "metadata": {},
   "outputs": [],
   "source": [
    "test_df.iloc[0].values"
   ]
  },
  {
   "attachments": {},
   "cell_type": "markdown",
   "metadata": {},
   "source": [
    "### 3. MLFlow 를 이용한 API Serving "
   ]
  },
  {
   "cell_type": "code",
   "execution_count": null,
   "metadata": {},
   "outputs": [],
   "source": [
    "mlflow models serve -m ./mlartifacts/899358510632907849/d20dbd4fbf2a421eab08dadf49bc8e36/artifacts/model -p 5001 --no-conda\n"
   ]
  },
  {
   "cell_type": "code",
   "execution_count": null,
   "metadata": {},
   "outputs": [],
   "source": [
    "import pandas as pd\n",
    "import requests\n",
    "\n",
    "# Define local host and endpoint url\n",
    "host = \"127.0.0.1\"\n",
    "url = f\"http://{host}:5001/invocations\"\n",
    "\n",
    "# Create dictionary with pandas DataFrame in the split orientation\n",
    "json_data = {\"dataframe_split\": test_df[:10].to_dict(orient=\"split\")}\n",
    "\n",
    "# Score model\n",
    "response = requests.post(url, json=json_data)\n",
    "print(f\"\\nPyfunc 'predict_interval':\\n${response.json()}\")\n"
   ]
  },
  {
   "cell_type": "code",
   "execution_count": null,
   "metadata": {},
   "outputs": [],
   "source": [
    "# Create dictionary with pandas DataFrame in the split orientation\n",
    "json_data = {\"dataframe_split\": test_df[:20].to_dict(orient=\"split\")}\n",
    "\n",
    "# Score model\n",
    "response = requests.post(url, json=json_data)\n"
   ]
  },
  {
   "cell_type": "code",
   "execution_count": null,
   "metadata": {},
   "outputs": [],
   "source": [
    "\n",
    "print(f\"\\nPyfunc 'predict_interval':\\n${response.json()}\")"
   ]
  },
  {
   "attachments": {},
   "cell_type": "markdown",
   "metadata": {},
   "source": [
    "### 4. Cloud 배포 \n",
    "\n",
    "##### AWS Sagemaker\n",
    "* mlflow sagemaker build-and-push-container\n",
    "* mlflow sagemaker deploy {parameters}\n",
    "\n",
    "##### AzureML\n",
    "* mlflow azureml export -m {model' path} -o test-output"
   ]
  }
 ],
 "metadata": {
  "kernelspec": {
   "display_name": "etl_cv",
   "language": "python",
   "name": "python3"
  },
  "language_info": {
   "codemirror_mode": {
    "name": "ipython",
    "version": 3
   },
   "file_extension": ".py",
   "mimetype": "text/x-python",
   "name": "python",
   "nbconvert_exporter": "python",
   "pygments_lexer": "ipython3",
   "version": "3.8.16"
  },
  "orig_nbformat": 4
 },
 "nbformat": 4,
 "nbformat_minor": 2
}
